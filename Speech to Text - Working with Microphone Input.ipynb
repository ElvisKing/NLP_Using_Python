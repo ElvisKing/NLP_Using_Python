{
 "cells": [
  {
   "cell_type": "markdown",
   "metadata": {},
   "source": [
    "# Speech to Text using SpeechRecognition - Working with Microphone Input"
   ]
  },
  {
   "cell_type": "code",
   "execution_count": 1,
   "metadata": {},
   "outputs": [],
   "source": [
    "import speech_recognition as sr\n",
    "r = sr.Recognizer()"
   ]
  },
  {
   "cell_type": "markdown",
   "metadata": {},
   "source": [
    "## The Microphone Class"
   ]
  },
  {
   "cell_type": "code",
   "execution_count": 2,
   "metadata": {},
   "outputs": [],
   "source": [
    "mic = sr.Microphone()"
   ]
  },
  {
   "cell_type": "code",
   "execution_count": 3,
   "metadata": {},
   "outputs": [
    {
     "data": {
      "text/plain": [
       "['HDA Intel PCH: ALC295 Analog (hw:0,0)',\n",
       " 'HDA Intel PCH: HDMI 0 (hw:0,3)',\n",
       " 'HDA Intel PCH: HDMI 1 (hw:0,7)',\n",
       " 'HDA Intel PCH: HDMI 2 (hw:0,8)',\n",
       " 'HDA Intel PCH: HDMI 3 (hw:0,9)',\n",
       " 'HDA Intel PCH: HDMI 4 (hw:0,10)',\n",
       " 'sysdefault',\n",
       " 'front',\n",
       " 'surround40',\n",
       " 'surround51',\n",
       " 'surround71',\n",
       " 'hdmi',\n",
       " 'pulse',\n",
       " 'dmix',\n",
       " 'default']"
      ]
     },
     "execution_count": 3,
     "metadata": {},
     "output_type": "execute_result"
    }
   ],
   "source": [
    "sr.Microphone.list_microphone_names()"
   ]
  },
  {
   "cell_type": "markdown",
   "metadata": {},
   "source": [
    "## Using listen() to Capture Microphone Input"
   ]
  },
  {
   "cell_type": "code",
   "execution_count": 4,
   "metadata": {},
   "outputs": [
    {
     "name": "stdout",
     "output_type": "stream",
     "text": [
      "Say something...\n",
      "Recognizing...\n",
      "hello\n"
     ]
    }
   ],
   "source": [
    "with mic as source:\n",
    "    print('Say something...')\n",
    "    audio = r.listen(source)\n",
    "speech = r.recognize_google(audio)\n",
    "print('Recognizing...')\n",
    "print(speech)"
   ]
  },
  {
   "cell_type": "code",
   "execution_count": 5,
   "metadata": {},
   "outputs": [
    {
     "name": "stdout",
     "output_type": "stream",
     "text": [
      "Say something...\n",
      "Recognizing...\n",
      "hello\n"
     ]
    }
   ],
   "source": [
    "with mic as source:\n",
    "    print('Say something...')\n",
    "    r.adjust_for_ambient_noise(source)  # For noisy environment\n",
    "    audio = r.listen(source)\n",
    "    speech = r.recognize_google(audio)\n",
    "print('Recognizing...')\n",
    "print(speech)"
   ]
  },
  {
   "cell_type": "markdown",
   "metadata": {},
   "source": [
    "## Recognizing Speech in Languages Other Than English"
   ]
  },
  {
   "cell_type": "markdown",
   "metadata": {},
   "source": [
    "To recognize speech in a different language, set the language keyword argument of the recognize_*() method to a string corresponding to the desired language. Most of the methods accept a BCP-47 (code) language tag, such as 'en-US' for American English.\n",
    "\n",
    "To find the BCP-47 code for a known language, visit the following URL:\n",
    "\n",
    "https://github.com/libyal/libfwnt/wiki/Language-Code-identifiers"
   ]
  },
  {
   "cell_type": "code",
   "execution_count": 6,
   "metadata": {},
   "outputs": [
    {
     "name": "stdout",
     "output_type": "stream",
     "text": [
      "Say something...\n",
      "Recognizing...\n",
      "नमस्कार\n"
     ]
    }
   ],
   "source": [
    "with mic as source:\n",
    "    print('Say something...')\n",
    "    r.adjust_for_ambient_noise(source)  # For noisy environment\n",
    "    audio = r.listen(source)\n",
    "    speech = r.recognize_google(audio, language='mr-IN') # Marathi\n",
    "print('Recognizing...')\n",
    "print(speech)"
   ]
  },
  {
   "cell_type": "code",
   "execution_count": 7,
   "metadata": {},
   "outputs": [
    {
     "name": "stdout",
     "output_type": "stream",
     "text": [
      "Say something...\n",
      "Recognizing...\n",
      "नमस्कार\n"
     ]
    }
   ],
   "source": [
    "with mic as source:\n",
    "    print('Say something...')\n",
    "    r.adjust_for_ambient_noise(source)  # For noisy environment\n",
    "    audio = r.listen(source)\n",
    "    speech = r.recognize_google(audio, language='hi-IN') # Hindi\n",
    "print('Recognizing...')\n",
    "print(speech)"
   ]
  },
  {
   "cell_type": "code",
   "execution_count": 8,
   "metadata": {},
   "outputs": [
    {
     "name": "stdout",
     "output_type": "stream",
     "text": [
      "Say something...\n",
      "Recognizing...\n",
      "こんにちは\n"
     ]
    }
   ],
   "source": [
    "with mic as source:\n",
    "    print('Say something...')\n",
    "    r.adjust_for_ambient_noise(source)  # For noisy environment\n",
    "    audio = r.listen(source)\n",
    "    speech = r.recognize_google(audio, language='ja-JP') # Japanese\n",
    "print('Recognizing...')\n",
    "print(speech)"
   ]
  },
  {
   "cell_type": "markdown",
   "metadata": {},
   "source": [
    "## Offline Speech Recognition using PocketSphinx"
   ]
  },
  {
   "cell_type": "code",
   "execution_count": 9,
   "metadata": {},
   "outputs": [
    {
     "name": "stdout",
     "output_type": "stream",
     "text": [
      "Say something...\n",
      "Recognizing...\n",
      "hello\n"
     ]
    }
   ],
   "source": [
    "with mic as source:\n",
    "    print('Say something...')\n",
    "    r.adjust_for_ambient_noise(source)  # For noisy environment\n",
    "    audio = r.listen(source)\n",
    "    speech = r.recognize_sphinx(audio)\n",
    "print('Recognizing...')\n",
    "print(speech)"
   ]
  }
 ],
 "metadata": {
  "kernelspec": {
   "display_name": "Python_Workspace",
   "language": "python",
   "name": "python_workspace"
  },
  "language_info": {
   "codemirror_mode": {
    "name": "ipython",
    "version": 3
   },
   "file_extension": ".py",
   "mimetype": "text/x-python",
   "name": "python",
   "nbconvert_exporter": "python",
   "pygments_lexer": "ipython3",
   "version": "3.6.8"
  }
 },
 "nbformat": 4,
 "nbformat_minor": 2
}
